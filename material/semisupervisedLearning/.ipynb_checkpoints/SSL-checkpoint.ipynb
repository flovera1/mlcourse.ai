{
 "cells": [
  {
   "cell_type": "markdown",
   "metadata": {},
   "source": [
    "# Semi supervised learning models"
   ]
  },
  {
   "cell_type": "raw",
   "metadata": {},
   "source": [
    "There can be problems with your data as entry point, for example:\n",
    "1) You don't have enough data.\n",
    "2) You have incomplete data (some of the data is incomplete).\n",
    "3) You need better results but can't achieve them because of limited data.\n",
    "\n",
    "For this we can help ourselves with semi-supervised learning.\n",
    "Semi-supevised learning is a machine learning technique that can take advantage of unlabeled data for training. \n",
    "Since we have unlabeled data, we inherit some aspects of unsupervised learning: *continuity* (points that are close to each other are likely to share the same label), *clustering* (the data tends to form discret points, and points in the same cluster are more likely to share a label) and *manifold* (the data lie approximately on a manifold of much lower dimension than the inputr space).\n",
    "\n"
   ]
  },
  {
   "cell_type": "code",
   "execution_count": null,
   "metadata": {},
   "outputs": [],
   "source": [
    "import os\n",
    "import pandas as pd\n",
    "import numpy as np\n",
    "import matplotlib.pyplot as plt\n",
    "import seaborn as sns\n",
    "from sklearn.utils import shuffle"
   ]
  },
  {
   "cell_type": "code",
   "execution_count": null,
   "metadata": {},
   "outputs": [],
   "source": []
  }
 ],
 "metadata": {
  "kernelspec": {
   "display_name": "Python 2",
   "language": "python",
   "name": "python2"
  },
  "language_info": {
   "codemirror_mode": {
    "name": "ipython",
    "version": 3
   },
   "file_extension": ".py",
   "mimetype": "text/x-python",
   "name": "python",
   "nbconvert_exporter": "python",
   "pygments_lexer": "ipython3",
   "version": "3.6.7"
  }
 },
 "nbformat": 4,
 "nbformat_minor": 2
}
